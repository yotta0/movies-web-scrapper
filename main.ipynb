{
 "cells": [
  {
   "metadata": {
    "ExecuteTime": {
     "end_time": "2025-04-15T02:56:13.077058Z",
     "start_time": "2025-04-15T02:56:13.071091Z"
    }
   },
   "cell_type": "code",
   "source": [
    "import time\n",
    "import requests\n",
    "from urllib.error import HTTPError\n",
    "from bs4 import BeautifulSoup\n",
    "import pandas as pd\n",
    "from time import time, sleep\n",
    "from random import randint\n",
    "from IPython.display import clear_output\n",
    "from warnings import warn"
   ],
   "id": "fdc80807a73da636",
   "outputs": [],
   "execution_count": 60
  },
  {
   "metadata": {
    "ExecuteTime": {
     "end_time": "2025-04-15T03:09:17.865024Z",
     "start_time": "2025-04-15T03:09:17.858288Z"
    }
   },
   "cell_type": "code",
   "source": [
    "url = 'http://www.imdb.com/search/title?release_date=2017&sort=num_votes,desc&page=1'\n",
    "headers = {\n",
    "    # \"Accept-Language\": \"en-US, en;q=0.5\",\n",
    "    'User-Agent': 'Mozilla/5.0 (Windows NT 10.0; Win64; x64) AppleWebKit/537.36 (KHTML, like Gecko) Chrome/91.0.4472.124 Safari/537.36'\n",
    "}"
   ],
   "id": "3831a4882dc9a66a",
   "outputs": [],
   "execution_count": 66
  },
  {
   "metadata": {},
   "cell_type": "code",
   "source": [
    "pages = [str(i) for i in range(1,5)]\n",
    "years_url = [str(i) for i in range(2000,2001)]\n",
    "\n",
    "# Redeclaring the lists to store data in\n",
    "names = []\n",
    "years = []\n",
    "imdb_ratings = []\n",
    "metascores = []\n",
    "votes = []\n",
    "# Preparing the monitoring of the loop\n",
    "start_time = time()\n",
    "requests_count = 0\n",
    "# For every year in the interval 2000-2017\n",
    "for year_url in years_url:\n",
    "\n",
    "    # For every page in the interval 1-4\n",
    "    for page in pages:\n",
    "\n",
    "        # Make a get request\n",
    "        response = requests.get('http://www.imdb.com/search/title?release_date=' + year_url +\n",
    "        '&sort=num_votes,desc&page=' + page, headers = headers)\n",
    "\n",
    "        # Pause the loop\n",
    "        sleep(randint(8,15))\n",
    "\n",
    "        # Monitor the requests\n",
    "        requests_count += 1\n",
    "        elapsed_time = time() - start_time\n",
    "        print(f'Request:{requests_count}; Frequency: {requests_count/elapsed_time} requests/s')\n",
    "        clear_output(wait = True)\n",
    "\n",
    "        # Throw a warning for non-200 status codes\n",
    "        if response.status_code != 200:\n",
    "            warn(f'Request: {requests_count}; Status code: {response.status_code}')\n",
    "\n",
    "        # Break the loop if the number of requests is greater than expected\n",
    "        if requests_count > 72:\n",
    "            warn('Number of requests was greater than expected.')\n",
    "            break\n",
    "\n",
    "        # Parse the content of the request with BeautifulSoup\n",
    "        page_html = BeautifulSoup(response.text, 'html.parser')\n",
    "\n",
    "        # Select all the 50 movie containers from a single page\n",
    "        mv_containers = page_html.find_all('li', class_='ipc-metadata-list-summary-item')\n",
    "\n",
    "        # For every movie of these 50\n",
    "        for container in mv_containers:\n",
    "            # Scrape the name\n",
    "            name = container.h3.text.split('.', 1)[1].strip()\n",
    "            names.append(name)\n",
    "\n",
    "            # Scrape the year\n",
    "            year = container.find('span', class_='sc-2bbfc9e9-7 jttFlJ dli-title-metadata-item').text\n",
    "            years.append(year)\n",
    "\n",
    "            # Scrape the IMDB rating\n",
    "            imdb_rating = container.find('span', class_='ipc-rating-star--rating').text\n",
    "            imdb_ratings.append(float(imdb_rating))\n",
    "\n",
    "            # Scrape the Metascore\n",
    "            movie_metascore = container.find('span', class_='sc-b0901df4-0 bXIOoL metacritic-score-box')\n",
    "            if movie_metascore:\n",
    "                metascores.append(movie_metascore.text)\n",
    "            else:\n",
    "                metascores.append('N/A')\n",
    "\n",
    "            # Scrape the number of votes\n",
    "            movie_vote_count = container.find('span', class_='ipc-rating-star--voteCount').text\n",
    "            votes.append(movie_vote_count)"
   ],
   "id": "9f3c200e19b1d0e7",
   "execution_count": 67,
   "outputs": []
  },
  {
   "metadata": {
    "ExecuteTime": {
     "end_time": "2025-04-15T03:10:22.145463Z",
     "start_time": "2025-04-15T03:10:22.131312Z"
    }
   },
   "cell_type": "code",
   "source": [
    "test_df = pd.DataFrame({\n",
    "    'movie': names,\n",
    "    'year': years,\n",
    "    'imdb': imdb_ratings,\n",
    "    'metascore': metascores,\n",
    "    'votes': votes\n",
    "})\n",
    "test_df.head()\n",
    "test_df.info()\n",
    "test_df\n",
    "\n",
    "test_df.to_csv('imdb_2000_2001.csv')"
   ],
   "id": "265e1a7f2258d8ca",
   "outputs": [
    {
     "name": "stdout",
     "output_type": "stream",
     "text": [
      "<class 'pandas.core.frame.DataFrame'>\n",
      "RangeIndex: 100 entries, 0 to 99\n",
      "Data columns (total 5 columns):\n",
      " #   Column     Non-Null Count  Dtype  \n",
      "---  ------     --------------  -----  \n",
      " 0   movie      100 non-null    object \n",
      " 1   year       100 non-null    object \n",
      " 2   imdb       100 non-null    float64\n",
      " 3   metascore  100 non-null    object \n",
      " 4   votes      100 non-null    object \n",
      "dtypes: float64(1), object(4)\n",
      "memory usage: 4.0+ KB\n"
     ]
    }
   ],
   "execution_count": 68
  }
 ],
 "metadata": {
  "kernelspec": {
   "name": "python3",
   "language": "python",
   "display_name": "Python 3 (ipykernel)"
  }
 },
 "nbformat": 5,
 "nbformat_minor": 9
}
