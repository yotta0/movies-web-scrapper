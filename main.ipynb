{
 "cells": [
  {
   "metadata": {
    "ExecuteTime": {
     "end_time": "2025-04-14T20:29:03.797586Z",
     "start_time": "2025-04-14T20:29:03.794542Z"
    }
   },
   "cell_type": "code",
   "source": [
    "import time\n",
    "import requests\n",
    "from urllib.error import HTTPError\n",
    "from bs4 import BeautifulSoup"
   ],
   "id": "fdc80807a73da636",
   "outputs": [],
   "execution_count": 2
  },
  {
   "metadata": {
    "ExecuteTime": {
     "end_time": "2025-04-14T20:29:07.390123Z",
     "start_time": "2025-04-14T20:29:07.386830Z"
    }
   },
   "cell_type": "code",
   "source": "url = 'http://www.imdb.com/search/title?release_date=2017&sort=num_votes,desc&page=1'",
   "id": "3831a4882dc9a66a",
   "outputs": [],
   "execution_count": 4
  },
  {
   "metadata": {
    "ExecuteTime": {
     "end_time": "2025-04-14T20:29:05.357900Z",
     "start_time": "2025-04-14T20:29:05.351326Z"
    }
   },
   "cell_type": "code",
   "source": [
    "def fetch_url(url, retries=3, delay=5):\n",
    "    headers = {'User-Agent': 'Mozilla/5.0 (Windows NT 10.0; Win64; x64) AppleWebKit/537.36 (KHTML, like Gecko) Chrome/91.0.4472.124 Safari/537.36'}\n",
    "    for attempt in range(retries):\n",
    "        try:\n",
    "            response = requests.get(url, headers=headers)\n",
    "            return response.text\n",
    "        except requests.exceptions.RequestException as e:\n",
    "            print(f\"Attempt {attempt + 1} failed: {e}\")\n",
    "            time.sleep(delay)"
   ],
   "id": "4d4074d0e4046d11",
   "outputs": [],
   "execution_count": 3
  },
  {
   "metadata": {
    "ExecuteTime": {
     "end_time": "2025-04-14T20:29:51.463643Z",
     "start_time": "2025-04-14T20:29:49.781549Z"
    }
   },
   "cell_type": "code",
   "source": [
    "try:\n",
    "    html = fetch_url(url)\n",
    "\n",
    "    bs = BeautifulSoup(html, 'html.parser')\n",
    "    movie_containers = bs.find_all('li', class_='ipc-metadata-list-summary-item')\n",
    "\n",
    "except HTTPError as e:\n",
    "    print(f\"Failed to fetch URL: {e}\")"
   ],
   "id": "de1c878e734e694f",
   "outputs": [],
   "execution_count": 6
  },
  {
   "metadata": {
    "ExecuteTime": {
     "end_time": "2025-04-14T21:00:24.588750Z",
     "start_time": "2025-04-14T21:00:24.582011Z"
    }
   },
   "cell_type": "code",
   "source": [
    "first_movie = movie_containers[0]\n",
    "movie_title = first_movie.h3.text.split('.', 1)[1].strip()\n",
    "movie_year = first_movie.find('span', class_='sc-2bbfc9e9-7 jttFlJ dli-title-metadata-item').text\n",
    "movie_rating = first_movie.find('span', class_='ipc-rating-star--rating').text\n",
    "movie_metascore = first_movie.find('span', class_='sc-b0901df4-0 bXIOoL metacritic-score-box').text\n",
    "movie_vote_count = first_movie.find('span', class_='ipc-rating-star--voteCount').text"
   ],
   "id": "f2e546ed08e334a9",
   "outputs": [],
   "execution_count": 34
  },
  {
   "metadata": {
    "ExecuteTime": {
     "end_time": "2025-04-14T20:39:22.142328Z",
     "start_time": "2025-04-14T20:39:22.137867Z"
    }
   },
   "cell_type": "code",
   "source": "",
   "id": "265e1a7f2258d8ca",
   "outputs": [
    {
     "data": {
      "text/plain": [
       "'8.1'"
      ]
     },
     "execution_count": 28,
     "metadata": {},
     "output_type": "execute_result"
    }
   ],
   "execution_count": 28
  }
 ],
 "metadata": {
  "kernelspec": {
   "name": "python3",
   "language": "python",
   "display_name": "Python 3 (ipykernel)"
  }
 },
 "nbformat": 5,
 "nbformat_minor": 9
}
